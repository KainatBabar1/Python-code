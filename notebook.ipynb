{
 "cells": [
  {
   "cell_type": "code",
   "execution_count": null,
   "metadata": {},
   "outputs": [],
   "source": [
    "#just print the number \n",
    "num1=1\n",
    "num2=2\n",
    "num3=3\n",
    "print(\"Num1:\",num1,type(num1))\n"
   ]
  },
  {
   "cell_type": "code",
   "execution_count": null,
   "metadata": {},
   "outputs": [],
   "source": [
    "#float data type\n",
    "small_float=-0.001  \n",
    "exp_float=1.5e2\n",
    "print(\"small_float\",small_float,type(small_float)) \n",
    "print(\"exp_float\",exp_float,type(exp_float))"
   ]
  },
  {
   "cell_type": "code",
   "execution_count": null,
   "metadata": {},
   "outputs": [],
   "source": [
    "#ways of writtting strings\n",
    "greeting=\"hello world\"\n",
    "multiline_text=\"\"\"this is multiline text\n",
    "hmmmmmmmm..... reallly you are genius\"\"\"\n",
    "print(\"greeeting\",greeting,type(greeting))\n",
    "print(\"multiline comments\",multiline_text,type(multiline_text))"
   ]
  },
  {
   "cell_type": "code",
   "execution_count": null,
   "metadata": {},
   "outputs": [],
   "source": [
    "#combataination\n",
    "first_name=\"johnaay\"\n",
    "last_name=\"jani\"\n",
    "name=first_name + \" \"+last_name\n",
    "print(name)"
   ]
  },
  {
   "cell_type": "code",
   "execution_count": null,
   "metadata": {},
   "outputs": [],
   "source": [
    "#mutiple time sprinting the words\n",
    "ha=\"you can do it \\n\"*5\n",
    "print(ha)\n"
   ]
  },
  {
   "cell_type": "code",
   "execution_count": null,
   "metadata": {},
   "outputs": [],
   "source": [
    "#call a character in a srirng\n",
    "my_name =\"Kainat Babar\"\n",
    "count=len(my_name)#this is used to check he length of string\n",
    "first_char=my_name[0]\n",
    "full_name=my_name[0:12]\n",
    "print(first_char, full_name,count)\n"
   ]
  },
  {
   "cell_type": "code",
   "execution_count": null,
   "metadata": {},
   "outputs": [],
   "source": [
    "#casting:If you want to specify the data type of a variable, this can be done with casting.\n",
    "x = str(3)\n",
    "y = int(3)\n",
    "z = float(3)\n",
    "\n",
    "print(x)\n",
    "print(y)\n",
    "print(z)"
   ]
  },
  {
   "cell_type": "code",
   "execution_count": null,
   "metadata": {},
   "outputs": [],
   "source": [
    "print(first_char+\" \"+full_name)"
   ]
  },
  {
   "cell_type": "code",
   "execution_count": null,
   "metadata": {},
   "outputs": [],
   "source": [
    "#f type of string\n",
    "age=19\n",
    "print(\"my age is\",(age))\n",
    "age=19\n",
    "print(f\"my age is\",(age),\"\\nwhat is your age?\\ni think your age is also\",(age))"
   ]
  },
  {
   "cell_type": "code",
   "execution_count": null,
   "metadata": {},
   "outputs": [],
   "source": [
    "print(\"good luck\")"
   ]
  },
  {
   "cell_type": "code",
   "execution_count": null,
   "metadata": {},
   "outputs": [],
   "source": [
    "#boolen type of data\n",
    "is_python_easy=True\n",
    "if is_python_easy:\n",
    "   print(\"your condition is true\",type(is_python_easy))#here we check the type of bool veriable\n",
    "elif not is_python_easy:\n",
    "   print(\"your statement does not excicute \")"
   ]
  },
  {
   "cell_type": "code",
   "execution_count": null,
   "metadata": {},
   "outputs": [],
   "source": [
    "is_python_easy = False\n",
    "\n",
    "if is_python_easy:\n",
    "    print(\"Your condition is true\")\n",
    "elif not is_python_easy:  # Check if it's False\n",
    "    print(\"Your statement does not execute\",type(is_python_easy))"
   ]
  },
  {
   "cell_type": "code",
   "execution_count": null,
   "metadata": {},
   "outputs": [],
   "source": [
    "#none type \n",
    "not_know=None\n",
    "print(\"this is none type\",type(not_know))"
   ]
  },
  {
   "cell_type": "code",
   "execution_count": null,
   "metadata": {},
   "outputs": [],
   "source": [
    "if not_know is None:\n",
    "    print(\"nothing is here\")"
   ]
  },
  {
   "cell_type": "code",
   "execution_count": null,
   "metadata": {},
   "outputs": [],
   "source": [
    "not_know=2\n",
    "if not_know is None:\n",
    "    print(\"nothing is here\")\n",
    "else:\n",
    "    print(\"something is here \",not_know)    "
   ]
  },
  {
   "cell_type": "code",
   "execution_count": null,
   "metadata": {},
   "outputs": [],
   "source": [
    "#list is a collection of data we can add and change data in ameutable list\n",
    "empty_list=[]\n",
    "list_1=[10,20,30,40]\n",
    "mixed_list=[10,\"you\",50.5,True]#list can have all type of data\n",
    "print(empty_list,list_1,mixed_list)"
   ]
  },
  {
   "cell_type": "code",
   "execution_count": null,
   "metadata": {},
   "outputs": [],
   "source": [
    "print(list_1[0])#from left to right it start from 0 \n",
    "print(list_1[-2])#from right to left ot start from -1\n",
    "print(list_1[2])\n",
    "print(mixed_list[-3])\n",
    "print(mixed_list[0])\n",
    "print(mixed_list[-2])\n",
    "print(mixed_list[-1])"
   ]
  },
  {
   "cell_type": "code",
   "execution_count": null,
   "metadata": {},
   "outputs": [],
   "source": [
    "#list are muteable that means we can change the element of the list\n",
    "list_1.append(50)#it will add an element\n",
    "print(list_1)\n",
    "list_1.insert(2,5)#insert element at specific position in the list\n",
    "print(list_1)\n",
    "list_1.pop(2)#Removes and returns an element from the list at the given index. If no index is specified, it removes and returns the last element.\n",
    "print(list_1)\n",
    "list_1.remove(50)#remove the element from the list\n",
    "print(list_1)\n",
    "list_1[1]=25\n",
    "print(list_1)"
   ]
  },
  {
   "cell_type": "code",
   "execution_count": null,
   "metadata": {},
   "outputs": [],
   "source": [
    "#tuple maintain the order of element\n",
    "#tuple is immutable you can't cange the element\n",
    "empty_tuple=()\n",
    "one_element=(45)\n",
    "more_elements=(45,56,70,99,46)\n",
    "print(empty_tuple)\n",
    "print(one_element)\n",
    "print(more_elements)"
   ]
  },
  {
   "cell_type": "code",
   "execution_count": null,
   "metadata": {},
   "outputs": [],
   "source": [
    "\n",
    "first_ele=more_elements[0]\n",
    "print(first_ele)\n",
    "#slicing\n",
    "print(more_elements[0:])\n"
   ]
  },
  {
   "cell_type": "code",
   "execution_count": null,
   "metadata": {},
   "outputs": [],
   "source": [
    "try:\n",
    "    more_elements[2]=89#because it is tuple so we can't change the element in the tuple\n",
    "except TypeError as e:\n",
    "    print(\"error:\",e)    \n",
    "    \n"
   ]
  },
  {
   "cell_type": "code",
   "execution_count": null,
   "metadata": {},
   "outputs": [],
   "source": [
    "try:\n",
    "    one_element[0]=70\n",
    "except TypeError as e:\n",
    "    print(\"Error:\",e)    "
   ]
  },
  {
   "cell_type": "code",
   "execution_count": null,
   "metadata": {},
   "outputs": [],
   "source": []
  },
  {
   "cell_type": "code",
   "execution_count": null,
   "metadata": {},
   "outputs": [],
   "source": [
    "differ_tuple=(\"Good\",15,56)\n",
    "your_name,your_mode,your_weight=differ_tuple\n",
    "print(f\"your name{your_name}your mode{your_mode}your_weight{your_weight}\")"
   ]
  },
  {
   "cell_type": "code",
   "execution_count": null,
   "metadata": {},
   "outputs": [],
   "source": [
    "#operator in python\n",
    "#assignment operator\n",
    "x=3\n",
    "x*=4\n",
    "print(x)"
   ]
  },
  {
   "cell_type": "code",
   "execution_count": null,
   "metadata": {},
   "outputs": [],
   "source": [
    "#Arthmatic operator\n",
    "a,b=10,3\n",
    "print(\"addition\",a+b)\n",
    "print(\"subtration\",a-b)\n",
    "print(\"multiplycation\",a*b)\n",
    "print(\"Division\",a/b)\n",
    "print(\"floor division\",a//b)\n",
    "print(\"exponentional\",a**b)\n",
    "print(\"modulous\",a%b)\n",
    "\n"
   ]
  },
  {
   "cell_type": "code",
   "execution_count": null,
   "metadata": {},
   "outputs": [],
   "source": [
    "#comperision operator\n",
    "x,y=5,10\n",
    "print(\"x>y=\",x>y)\n",
    "print(\"x<y=\",x<y)\n",
    "print(\"x==y=\",x==y)\n",
    "print(\"x<=y=\",x<=y)\n",
    "print(\"x>=y=\",x>=y)\n",
    "print(\"x!=y=\",x!=y)\n"
   ]
  },
  {
   "cell_type": "code",
   "execution_count": null,
   "metadata": {},
   "outputs": [],
   "source": [
    "#logical operator\n",
    "a,b,c=True,False,True\n",
    "print(\"a and b and c:\",a and b and c)\n",
    "print(\"a or b or c:\",a or b or c)\n",
    "print(\"not a=\", not a)"
   ]
  },
  {
   "cell_type": "code",
   "execution_count": null,
   "metadata": {},
   "outputs": [],
   "source": [
    "#here we solve some problems related to logical operators in python\n",
    "age=int(input(\"enter your age:\"))\n",
    "marks=float(input(\"entre your marks:\"))\n",
    "if age>=16 and marks>=60:\n",
    "    print(\"you are eligible for admission\")\n",
    "else:\n",
    "    print(\"you are noit eligible\")    "
   ]
  },
  {
   "cell_type": "code",
   "execution_count": null,
   "metadata": {},
   "outputs": [],
   "source": [
    "#problem 2\n",
    "age = int(input(\"Enter your age: \"))\n",
    "\n",
    "if not age >= 18:\n",
    "    print(\"You are not eligible to vote.\")\n",
    "else:\n",
    "    print(\"You are eligible to vote.\")\n"
   ]
  },
  {
   "cell_type": "code",
   "execution_count": null,
   "metadata": {},
   "outputs": [],
   "source": [
    "\n",
    "#problem 3\n",
    "password=input(\"enter password\")\n",
    "if len(password)>=8 or \"@\" in password:\n",
    "    print(\"your password is correct\")\n",
    "elif len(password)>=8 and \"@\" in password:  \n",
    "    print(\"your password is correct\")\n",
    "else :\n",
    "    print(\"your password is incorrect\")      \n"
   ]
  },
  {
   "cell_type": "code",
   "execution_count": null,
   "metadata": {},
   "outputs": [],
   "source": [
    "#match statement\n",
    "http_status = 404\n",
    "\n",
    "match http_status:\n",
    "    case 200:\n",
    "        print(\"OK\")\n",
    "    case 404:\n",
    "        print(\"Not Found\")\n",
    "    case 500:\n",
    "        print(\"Server Error\")\n",
    "    case _:\n",
    "        print(\"Unknown status\")\n"
   ]
  },
  {
   "cell_type": "code",
   "execution_count": null,
   "metadata": {},
   "outputs": [],
   "source": [
    "#match statemnet \n",
    "def check_num(x):\n",
    "    match x:\n",
    "        case 1 | 3 | 5:\n",
    "            print(\"Odd number\")\n",
    "        case 2 | 4 | 6:\n",
    "            print(\"Even number\")\n",
    "        case _:\n",
    "            print(\"Other number\")\n",
    "\n",
    "check_num(3)  # Output: Odd number\n"
   ]
  },
  {
   "cell_type": "code",
   "execution_count": null,
   "metadata": {},
   "outputs": [],
   "source": [
    "day = 4\n",
    "match day:\n",
    "  case 1 | 2 | 3 | 4 | 5:\n",
    "    print(\"Today is a weekday\")\n",
    "  case 6 | 7:\n",
    "    print(\" weekends!\")\n"
   ]
  },
  {
   "cell_type": "code",
   "execution_count": null,
   "metadata": {},
   "outputs": [],
   "source": [
    "#dictionaries:Dictionaries are used to store data values in key:value pairs.\n",
    "#to whomw value is assigned is \"key\"\n",
    "#keys cannot be duplicate\n",
    "#vlaues can be duplicate\n",
    "thisDict={\"name\":\"Kainat\",\"study\":\"graduation\",\"age\":16}\n",
    "print(thisDict)\n",
    "print(thisDict[\"name\"])\n",
    "\n"
   ]
  },
  {
   "cell_type": "code",
   "execution_count": null,
   "metadata": {},
   "outputs": [],
   "source": [
    "#duplicate values are not allowed\n",
    "thisdict = {\n",
    "  \"brand\": \"Ford\",\n",
    "  \"model\": \"Mustang\",\n",
    "  \"year\": 1964,\n",
    "  \"year\": 2020\n",
    "}\n",
    "print(thisdict)\n"
   ]
  },
  {
   "cell_type": "code",
   "execution_count": null,
   "metadata": {},
   "outputs": [],
   "source": [
    "thisdict = {\n",
    "  \"brand\": \"Ford\",\n",
    "  \"electric\": False,\n",
    "  \"year\": 1964,\n",
    "  \"colors\": [\"red\", \"white\", \"blue\",45]#key can hold data of diffenet types\n",
    "}\n",
    "\n",
    "print(thisdict)\n"
   ]
  },
  {
   "cell_type": "code",
   "execution_count": null,
   "metadata": {},
   "outputs": [],
   "source": [
    "#set are unordered ,duplicte vlues are not allowed\n",
    "#once a set is created we can't change the member of a set\n",
    "thisset = {\"apple\", \"banana\", \"cherry\", True, 1, 2}#here true and one are considered as same \n",
    "\n",
    "print(thisset)\n",
    "thisset = {\"apple\", \"banana\", \"cherry\", False, True, 0}#in the same way 0 and false are considered same\n",
    "\n",
    "print(thisset)\n"
   ]
  },
  {
   "cell_type": "code",
   "execution_count": null,
   "metadata": {},
   "outputs": [],
   "source": [
    "#for loop\n",
    "numbers=[1,2,3,4,5,6] #first form a list\n",
    "for num in numbers: #then asssign numbers to num\n",
    "  print(num) #print all the numbers by running loop"
   ]
  },
  {
   "cell_type": "code",
   "execution_count": null,
   "metadata": {},
   "outputs": [],
   "source": [
    "fruits=['apple','banana','charry']#it is a list\n",
    "for index , fruit in enumerate(fruits):#enumerate show the index \n",
    " print(f\"index:{index}:{fruit}\")#f avoid concatination"
   ]
  },
  {
   "cell_type": "code",
   "execution_count": null,
   "metadata": {},
   "outputs": [],
   "source": [
    "fruits=['apple','banana','charry']\n",
    "index=0\n",
    "for index , fruit in enumerate(fruits):\n",
    "  print(f\"index {index}:{fruit}\")\n",
    "  index +=1\n",
    "  "
   ]
  },
  {
   "cell_type": "code",
   "execution_count": null,
   "metadata": {},
   "outputs": [],
   "source": [
    "#for loop for dictionary iterating over a dictionary\n",
    "person={\n",
    "    'Name':'Kainat',\n",
    "    'Age' :19,\n",
    "    'City':'lahore'\n",
    "\n",
    "}\n",
    "for key in person:\n",
    "    print(f\"{key}:{person[key]}\")\n",
    "\n",
    "\n",
    "\n",
    "\n"
   ]
  },
  {
   "cell_type": "code",
   "execution_count": null,
   "metadata": {},
   "outputs": [],
   "source": [
    "# Creating a list\n",
    "fruits = [\"apple\", \"banana\", \"cherry\"]\n",
    "numbers = [1, 2, 3, 4, 5]\n",
    "mixed = [1, \"hello\", 3.14, True]\n",
    "\n",
    "# Lists are mutable (can be changed)\n",
    "fruits[1] = \"blueberry\"  # Change item at index 1\n",
    "fruits.append(\"orange\")  # Add new item\n",
    "fruits.remove(fruits[1])   # Remove item\n",
    "fruits.remove(\"cherry\")  # Remove item\n",
    "\n",
    "print(fruits)  # Output: ['blueberry', 'cherry', 'orange']\n",
    "\n",
    "# Ordered - maintains insertion order\n",
    "print(numbers[0])  # Output: 1 (first item)\n",
    "print(numbers[-1]) # Output: 5 (last item)\n",
    "print(fruits[1])\n",
    "# Can contain duplicates\n",
    "duplicates = [1, 2, 2, 3, 3, 3]"
   ]
  },
  {
   "cell_type": "code",
   "execution_count": 74,
   "metadata": {},
   "outputs": [
    {
     "name": "stdout",
     "output_type": "stream",
     "text": [
      "apple\n",
      "banana\n",
      "cherry\n",
      "orange\n",
      "['apple', 'banana', 'cherry', 'orange']\n"
     ]
    }
   ],
   "source": [
    "fruits = [\"apple\", \"banana\", \"cherry\", \"orange\"]\n",
    "\n",
    "print(fruits[0])  # Output: \"apple\" (1st element)\n",
    "print(fruits[1])  # Output: \"banana\" (2nd element)\n",
    "print(fruits[2])  # Output: \"cherry\" (3rd element)\n",
    "print(fruits[3])  # Output: \"orange\" (4th element)\n",
    "print(fruits)"
   ]
  },
  {
   "cell_type": "code",
   "execution_count": null,
   "metadata": {},
   "outputs": [],
   "source": [
    "fruits1=['apple','banana','charrry','graps']#list with index for loop using enumerate\n",
    "for index,fruit in enumerate(fruits):\n",
    "    print(f\"index {index}: {fruit}\")"
   ]
  },
  {
   "cell_type": "code",
   "execution_count": null,
   "metadata": {},
   "outputs": [],
   "source": [
    "fruits=['apple','charry','banana','graps']#iteration in dictionary using for loop\n",
    "index=0\n",
    "for fruit in fruits:\n",
    "    print(f\"index {index}:{fruit}\")\n",
    "    index +=1"
   ]
  },
  {
   "cell_type": "code",
   "execution_count": null,
   "metadata": {},
   "outputs": [
    {
     "ename": "ValueError",
     "evalue": "too many values to unpack (expected 2)",
     "output_type": "error",
     "traceback": [
      "\u001b[1;31m---------------------------------------------------------------------------\u001b[0m",
      "\u001b[1;31mValueError\u001b[0m                                Traceback (most recent call last)",
      "Cell \u001b[1;32mIn[79], line 4\u001b[0m\n\u001b[0;32m      1\u001b[0m person1\u001b[38;5;241m=\u001b[39m{ \u001b[38;5;124m'\u001b[39m\u001b[38;5;124mname\u001b[39m\u001b[38;5;124m'\u001b[39m:\u001b[38;5;124m'\u001b[39m\u001b[38;5;124malice\u001b[39m\u001b[38;5;124m'\u001b[39m,\n\u001b[0;32m      2\u001b[0m          \u001b[38;5;124m'\u001b[39m\u001b[38;5;124mage\u001b[39m\u001b[38;5;124m'\u001b[39m:\u001b[38;5;241m23\u001b[39m,\n\u001b[0;32m      3\u001b[0m          \u001b[38;5;124m\"\u001b[39m\u001b[38;5;124mclass\u001b[39m\u001b[38;5;124m\"\u001b[39m:\u001b[38;5;124m\"\u001b[39m\u001b[38;5;124mmfail\u001b[39m\u001b[38;5;124m\"\u001b[39m}\n\u001b[1;32m----> 4\u001b[0m \u001b[38;5;28;01mfor\u001b[39;00m key , values \u001b[38;5;129;01min\u001b[39;00m person1:\n\u001b[0;32m      5\u001b[0m     \u001b[38;5;28mprint\u001b[39m(\u001b[38;5;124mf\u001b[39m\u001b[38;5;124m\"\u001b[39m\u001b[38;5;124m \u001b[39m\u001b[38;5;132;01m{\u001b[39;00mkey\u001b[38;5;132;01m}\u001b[39;00m\u001b[38;5;124m :\u001b[39m\u001b[38;5;132;01m{\u001b[39;00mvalues\u001b[38;5;132;01m}\u001b[39;00m\u001b[38;5;124m\"\u001b[39m)\u001b[38;5;66;03m#person1[key]this will assign value\u001b[39;00m\n",
      "\u001b[1;31mValueError\u001b[0m: too many values to unpack (expected 2)"
     ]
    }
   ],
   "source": [
    "person1={ 'name':'alice',\n",
    "         'age':23,\n",
    "         \"class\":\"mfail\"}    {person1[key]}\n",
    "for key , values in person1:\n",
    "    print(f\" {key} :{values}\")#person1[key]this will assign value\n"
   ]
  },
  {
   "cell_type": "code",
   "execution_count": null,
   "metadata": {},
   "outputs": [],
   "source": [
    "for key,value in person1.items():#for loop for iteration in dictionary Use items() when you want to access and iterate through both keys and values of a dictionary.\n",
    "    print(f\"{key} : {value}\")"
   ]
  },
  {
   "cell_type": "code",
   "execution_count": null,
   "metadata": {},
   "outputs": [],
   "source": [
    "pyaz=('cool','phool','kali')#this is for loop for tuple\n",
    "for piz in pyaz:\n",
    "    print(piz)"
   ]
  },
  {
   "cell_type": "code",
   "execution_count": null,
   "metadata": {},
   "outputs": [],
   "source": [
    "#it is while loop\n",
    "count=0\n",
    "while count<5:\n",
    "    print(\"count is \",count)\n",
    "    count +=1"
   ]
  },
  {
   "cell_type": "code",
   "execution_count": null,
   "metadata": {},
   "outputs": [],
   "source": [
    "for i in range(1,10):\n",
    "    if i==3:\n",
    "        print(\"this is 3\")\n",
    "        continue #continue skips the rest of the current loop iteration and goes to the next iteration.\n",
    "    if i==8:\n",
    "        print(\"this is 8\")\n",
    "        break #break exits the loop entirely.\n",
    "    else:\n",
    "        print(\"the end\")    \n"
   ]
  },
  {
   "cell_type": "code",
   "execution_count": null,
   "metadata": {},
   "outputs": [],
   "source": [
    "traffic_light =\"red\"\n",
    "if traffic_light==\"green\":\n",
    "    print(\"you can go\")\n",
    "elif traffic_light==\"yelllow\":\n",
    "    print(\"are you ready\")\n",
    "\n",
    "else:\n",
    "    print(\"you can't go\")    "
   ]
  },
  {
   "cell_type": "code",
   "execution_count": null,
   "metadata": {},
   "outputs": [],
   "source": [
    "pedestrain = \"walk\"\n",
    "if pedestrain==\"walk\" and pedestrain!=\" flashing\":\n",
    "    print(\"you can go\")\n",
    "else:\n",
    "    print(\"you should stop\")    "
   ]
  },
  {
   "cell_type": "code",
   "execution_count": null,
   "metadata": {},
   "outputs": [],
   "source": [
    "#print function\n",
    "print(\"you are nice\")"
   ]
  },
  {
   "cell_type": "code",
   "execution_count": null,
   "metadata": {},
   "outputs": [],
   "source": [
    "#input function\n",
    "name=input(\"enter your name\")\n",
    "print(name)"
   ]
  },
  {
   "cell_type": "code",
   "execution_count": null,
   "metadata": {},
   "outputs": [],
   "source": [
    "num=3\n",
    "print(type(num))\n",
    "name2=\"ayesha\"\n",
    "print(type(name2))"
   ]
  },
  {
   "cell_type": "code",
   "execution_count": null,
   "metadata": {},
   "outputs": [],
   "source": [
    "word=\"python\"\n",
    "print(len(word))"
   ]
  },
  {
   "cell_type": "code",
   "execution_count": null,
   "metadata": {},
   "outputs": [],
   "source": [
    "price=[1,2,3,4,5]\n",
    "highest_price=max(price)\n",
    "print(\"the highest price is\",highest_price)"
   ]
  },
  {
   "cell_type": "code",
   "execution_count": null,
   "metadata": {},
   "outputs": [],
   "source": [
    "#sorted function arrange all the elements in assending order\n",
    "rating=[23.4,45.5,56.7,2.3]\n",
    "sorted_rating=sorted(rating)\n",
    "print(\"the sorted rating is \",sorted_rating)"
   ]
  },
  {
   "cell_type": "code",
   "execution_count": null,
   "metadata": {},
   "outputs": [],
   "source": [
    "for i in range(5):\n",
    "    print(\"dish \",i+1 ,\"is ready\")"
   ]
  },
  {
   "cell_type": "code",
   "execution_count": null,
   "metadata": {},
   "outputs": [],
   "source": [
    "#it will print the memory adress\n",
    "x=42\n",
    "print(\"the memory adderes of variable is\",id(x))"
   ]
  },
  {
   "cell_type": "code",
   "execution_count": null,
   "metadata": {},
   "outputs": [],
   "source": [
    "expresion=\"2+3*8\"\n",
    "result=eval(expresion)#eval function just perform  evaluation\n",
    "print(\"the result of expression id\",result)"
   ]
  },
  {
   "cell_type": "code",
   "execution_count": null,
   "metadata": {},
   "outputs": [],
   "source": [
    "def add(num1,num2):\n",
    "    #function for addition of two numbers\n",
    "    print(\"number 1 is\",num1)\n",
    "    print(\"number 2 is\",num2)\n",
    "    addition=num1+num2\n",
    "    return addition\n",
    "result=add(2,4)\n",
    "print(\"the sum of two numbers are\",result)"
   ]
  },
  {
   "cell_type": "code",
   "execution_count": null,
   "metadata": {},
   "outputs": [],
   "source": [
    "#default functions take values as default even if we does not give value to the varablre while definig parameters\n",
    "def defname(fname,mname=\"harry\",hname=\"goody\"):\n",
    "    print(fname,mname,hname)\n",
    "defname(\"nabeel\")"
   ]
  },
  {
   "cell_type": "code",
   "execution_count": null,
   "metadata": {},
   "outputs": [],
   "source": [
    "#keyword dunction\n",
    "def defname(fname,mname,hname):\n",
    "    print(fname,mname,hname)\n",
    "defname(\"nabeel\",\"harry\",\"goody\")"
   ]
  },
  {
   "cell_type": "code",
   "execution_count": null,
   "metadata": {},
   "outputs": [],
   "source": [
    "def student_details(name, roll_no, grade):\n",
    "    print(\"Student:\", name, \"| Roll No:\", roll_no, \"| Grade:\", grade)\n",
    "\n",
    "student_details(\"Bilal\", 234, \"A+\")\n"
   ]
  },
  {
   "cell_type": "code",
   "execution_count": null,
   "metadata": {},
   "outputs": [],
   "source": [
    "#function with *agr(tuple of arrguments)\n",
    "def  defname(*names):\n",
    "    print(\"hello\",names[1],names[0],names[2])\n",
    "defname(\"herry\",\"goody\",\"nabeel\")    "
   ]
  },
  {
   "cell_type": "code",
   "execution_count": null,
   "metadata": {},
   "outputs": [],
   "source": [
    "#function returing a full name\n",
    "def defname(fname,mname,hname):\n",
    "    return \"hello \" + fname+\" \"+mname+\" \"+hname\n",
    "print(defname(\"nabeel\",\"harry\",\"goody\"))\n",
    "\n"
   ]
  },
  {
   "cell_type": "code",
   "execution_count": null,
   "metadata": {},
   "outputs": [],
   "source": [
    "# defining a local and a global variable\n",
    "\n",
    "x = 5  # global variable\n",
    "\n",
    "def myfunction():\n",
    "    y = 10  # local variable\n",
    "    print(f'inside the function x = {x}')\n",
    "    print(f'inside the function y = {y}')\n",
    "\n",
    "myfunction()\n",
    "print(f'outside the function x = {x}')\n",
    "# print(f'outside the function y = {y}')  # This will cause an error because y is local to the function\n"
   ]
  },
  {
   "cell_type": "code",
   "execution_count": null,
   "metadata": {},
   "outputs": [],
   "source": [
    "#let's solve some ;problems\n",
    "#Swap Values Without a Temporary Variable\n",
    "a=3\n",
    "b=4\n",
    "b,a=a,b\n",
    "print( a,b)"
   ]
  },
  {
   "cell_type": "code",
   "execution_count": null,
   "metadata": {},
   "outputs": [],
   "source": [
    "sentence = input(\"Enter a sentence: \")\n",
    "words = sentence.split()\n",
    "\n",
    "longest_word = max(words)\n",
    "print(f\"Longest word: {longest_word}\")\n",
    "print(f\"Length: {len(longest_word)}\")\n"
   ]
  },
  {
   "cell_type": "code",
   "execution_count": null,
   "metadata": {},
   "outputs": [],
   "source": [
    "num = int(input(\"Enter a number: \"))\n",
    "\n",
    "if num % 3 == 0 and num % 5 == 0:\n",
    "    print(\"FizzBuzz\")\n",
    "elif num % 3 == 0:\n",
    "    print(\"Fizz\")\n",
    "elif num % 5 == 0:\n",
    "    print(\"Buzz\")\n",
    "else:\n",
    "    print(num)\n"
   ]
  },
  {
   "cell_type": "code",
   "execution_count": null,
   "metadata": {},
   "outputs": [],
   "source": [
    "#for odd numbers\n",
    "nums = [int(input(f\"Enter number {i+1}: \")) for i in range(3)]\n",
    "nums.sort()\n",
    "median = nums[1]\n",
    "print(f\"Median is: {median}\")\n"
   ]
  },
  {
   "cell_type": "code",
   "execution_count": null,
   "metadata": {},
   "outputs": [],
   "source": [
    "nums = [int(input(f\"Enter number {i + 1}: \")) for i in range(10)]\n",
    "nums.sort()\n",
    "\n",
    "middle1 = len(nums)//2 - 1  # index 4 (5th element)\n",
    "middle2 = len(nums)//2      # index 5 (6th element)\n",
    "\n",
    "median = (nums[middle1] + nums[middle2]) / 2\n",
    "\n",
    "print(f\"Median is: {median}\")\n",
    "\n",
    "\n"
   ]
  },
  {
   "cell_type": "code",
   "execution_count": null,
   "metadata": {},
   "outputs": [],
   "source": [
    "#arrays in python\n",
    "cars = [\"Ford\", \"Volvo\", \"BMW\"]\n",
    "\n",
    "print(cars)\n",
    "\n"
   ]
  },
  {
   "cell_type": "code",
   "execution_count": null,
   "metadata": {},
   "outputs": [],
   "source": [
    "cars = [\"Ford\", \"Volvo\", \"BMW\"]\n",
    "\n",
    "x = cars[0]\n",
    "\n",
    "print(x)"
   ]
  },
  {
   "cell_type": "code",
   "execution_count": null,
   "metadata": {},
   "outputs": [],
   "source": [
    "cars = [\"Ford\", \"Volvo\", \"BMW\"]\n",
    "\n",
    "x = len(cars)\n",
    "\n",
    "print(x)\n"
   ]
  },
  {
   "cell_type": "code",
   "execution_count": null,
   "metadata": {},
   "outputs": [],
   "source": [
    "cars = [\"Ford\", \"Volvo\", \"BMW\"]\n",
    "\n",
    "cars.pop(1)\n",
    "\n",
    "print(cars)"
   ]
  },
  {
   "cell_type": "code",
   "execution_count": null,
   "metadata": {},
   "outputs": [],
   "source": [
    "num = 8\n",
    "for n in range(2, num):\n",
    "    if num % n == 0:\n",
    "        print(\" not Prime Number\")\n",
    "        break\n",
    "else:\n",
    "    print(\" prime\")"
   ]
  },
  {
   "cell_type": "code",
   "execution_count": null,
   "metadata": {},
   "outputs": [],
   "source": [
    "#problem 1 \n",
    "name=\"alice\"\n",
    "age=23\n",
    "hight=5.6\n",
    "print(f'name:{name} age:{age} hight:{hight}')"
   ]
  },
  {
   "cell_type": "code",
   "execution_count": null,
   "metadata": {},
   "outputs": [],
   "source": [
    "#probkem 2\n",
    "counter=10\n",
    "counter=20\n",
    "counter=counter*2\n",
    "print(counter)"
   ]
  },
  {
   "cell_type": "code",
   "execution_count": null,
   "metadata": {},
   "outputs": [],
   "source": [
    "#problem \n",
    "num= int(input(\"enter a number:\"))\n",
    "for n in range(2,num):\n",
    "    if num%n==0:\n",
    "        print(\"your number is not prime\")\n",
    "        break\n",
    "else:\n",
    "    print(\"your number is  prime\")    \n",
    "\n"
   ]
  },
  {
   "cell_type": "code",
   "execution_count": null,
   "metadata": {},
   "outputs": [],
   "source": [
    "#problem\n",
    "def reverse_string(s):\n",
    "    return s[::-1]\n",
    "print(reverse_string(\"Hello\"))"
   ]
  },
  {
   "cell_type": "code",
   "execution_count": 22,
   "metadata": {},
   "outputs": [
    {
     "data": {
      "text/plain": [
       "'risaY'"
      ]
     },
     "execution_count": 22,
     "metadata": {},
     "output_type": "execute_result"
    }
   ],
   "source": [
    "s=\"Yasir\"\n",
    "s[::-1]"
   ]
  },
  {
   "cell_type": "code",
   "execution_count": null,
   "metadata": {},
   "outputs": [],
   "source": [
    "def is_prime(n):\n",
    "    if n < 2: return False\n",
    "    for i in range(2, int(n**0.5)+1):\n",
    "        if n % i == 0: return False\n",
    "    return True\n",
    "\n",
    "print(is_prime(13))  # Output: True\n"
   ]
  },
  {
   "cell_type": "code",
   "execution_count": null,
   "metadata": {},
   "outputs": [],
   "source": [
    "def is_prime(n):\n",
    "    if n<2:return False\n",
    "    for i in range(2,int(n**0.5 + 1)):\n",
    "        if n%i ==0: return False\n",
    "    return True\n",
    "print(is_prime (int(input(\"enter a number\"))))"
   ]
  },
  {
   "cell_type": "code",
   "execution_count": null,
   "metadata": {},
   "outputs": [],
   "source": [
    "def fibonacci(n):\n",
    "    if n <= 1: return n\n",
    "    return fibonacci(n-1) + fibonacci(n-2)\n",
    "\n",
    "print(fibonacci (5))  "
   ]
  },
  {
   "cell_type": "code",
   "execution_count": null,
   "metadata": {},
   "outputs": [],
   "source": [
    "name = \"Kainat\"\n",
    "nameshort = name[0:7]\n",
    "print(nameshort)"
   ]
  },
  {
   "cell_type": "code",
   "execution_count": null,
   "metadata": {},
   "outputs": [],
   "source": [
    "#negative slicing\n",
    "name1= \"kainat\"\n",
    "nameshort1 = name1[-6:-1]\n",
    "print(nameshort1)"
   ]
  },
  {
   "cell_type": "code",
   "execution_count": null,
   "metadata": {},
   "outputs": [],
   "source": [
    "#string functions\n",
    "name = \"kainatBabar\"\n",
    "print(len(name))\n",
    "print(name.startswith(\"Kai\"))\n",
    "print(name.endswith(\"bar\"))\n",
    "print(name.capitalize())"
   ]
  },
  {
   "cell_type": "code",
   "execution_count": null,
   "metadata": {},
   "outputs": [],
   "source": [
    "name.find(\"babar\")"
   ]
  },
  {
   "cell_type": "code",
   "execution_count": null,
   "metadata": {},
   "outputs": [],
   "source": [
    "#print a random number\n",
    "import random\n",
    "print(\"the random nuber is\",random.randint(109028,1001111))"
   ]
  },
  {
   "cell_type": "code",
   "execution_count": null,
   "metadata": {},
   "outputs": [],
   "source": [
    "\n",
    "# todo_list.py\n",
    "\n",
    "# Initialize an empty list to store tasks\n",
    "tasks = []\n",
    "\n",
    "def add_task():\n",
    "    task = input(\"Enter a task: \")\n",
    "    tasks.append({\"task\": task, \"completed\": False})\n",
    "    print(\"Task added!\")\n",
    "\n",
    "def view_tasks():\n",
    "    print(\"Your Tasks:\")\n",
    "    for i, task in enumerate(tasks, start=1):\n",
    "        status = \"Completed\" if task[\"completed\"] else \"Not Completed\"\n",
    "        print(f\"{i}. {task['task']} - {status}\")\n",
    "\n",
    "def delete_task():\n",
    "    task_number = int(input(\"Enter the task number to delete: \")) - 1\n",
    "    if task_number >= 0 and task_number < len(tasks):\n",
    "        del tasks[task_number]\n",
    "        print(\"Task deleted!\")\n",
    "    else:\n",
    "        print(\"Invalid task number.\")\n",
    "\n",
    "def mark_completed():\n",
    "    task_number = int(input(\"Enter the task number to mark as completed: \")) - 1\n",
    "    if task_number >= 0 and task_number < len(tasks):\n",
    "        tasks[task_number][\"completed\"] = True\n",
    "        print(\"Task marked as completed!\")\n",
    "    else:\n",
    "        print(\"Invalid task number.\")\n",
    "\n",
    "def main():\n",
    "    while True:\n",
    "        print(\"1. Add Task\")\n",
    "        print(\"2. View Tasks\")\n",
    "        print(\"3. Delete Task\")\n",
    "        print(\"4. Mark Task as Completed\")\n",
    "        print(\"5. Quit\")\n",
    "        choice = input(\"Enter your choice: \")\n",
    "        if choice == \"1\":\n",
    "            add_task()\n",
    "        elif choice == \"2\":\n",
    "            view_tasks()\n",
    "        elif choice == \"3\":\n",
    "            delete_task()\n",
    "        elif choice == \"4\":\n",
    "            mark_completed()\n",
    "        elif choice == \"5\":\n",
    "            break\n",
    "        else:\n",
    "            print(\"Invalid choice. Please try again.\")\n",
    "\n",
    "\n",
    "\n",
    "if _name_ == \"_main_\":\n",
    "    main()\n",
    "\n",
    "\n",
    "\n",
    "   "
   ]
  },
  {
   "cell_type": "code",
   "execution_count": 7,
   "metadata": {},
   "outputs": [
    {
     "name": "stdout",
     "output_type": "stream",
     "text": [
      "Good afternoon Kainat\n"
     ]
    }
   ],
   "source": [
    "name = input(\"enter your name\")\n",
    "print(f\"Good afternoon {name}\")"
   ]
  },
  {
   "cell_type": "code",
   "execution_count": 11,
   "metadata": {},
   "outputs": [
    {
     "name": "stdout",
     "output_type": "stream",
     "text": [
      "dear  kainat \n",
      "your are selected  \n",
      " 7 november 2005\n"
     ]
    }
   ],
   "source": [
    "letter= '''dear  name \n",
    "your are selected  \n",
    "date'''\n",
    "print(letter.replace(\"name\",\"kainat\").replace(\"date\",\" 7 november 2005\"))"
   ]
  },
  {
   "cell_type": "code",
   "execution_count": 19,
   "metadata": {},
   "outputs": [
    {
     "name": "stdout",
     "output_type": "stream",
     "text": [
      "13\n",
      "-1\n"
     ]
    }
   ],
   "source": [
    "#find the index\n",
    "name=\" kainat is a good   girl\"\n",
    "print(name.find(\"goo\"))\n",
    "name=\" kainat is a good girl\"# return -1 when there is no double space\n",
    "print(name.find(\"   \"))"
   ]
  },
  {
   "cell_type": "code",
   "execution_count": 20,
   "metadata": {},
   "outputs": [
    {
     "name": "stdout",
     "output_type": "stream",
     "text": [
      " kainat is a good girl\n"
     ]
    }
   ],
   "source": [
    "#replce\n",
    "name=\" kainat is a good   girl\"\n",
    "print(name.replace(\"   \",\" \"))\n"
   ]
  },
  {
   "cell_type": "code",
   "execution_count": 21,
   "metadata": {},
   "outputs": [
    {
     "name": "stdout",
     "output_type": "stream",
     "text": [
      " kainat is a good   girl\n"
     ]
    }
   ],
   "source": [
    "#strings are immutable so if i print the name it haas 3 spaces again\n",
    "print(name)"
   ]
  },
  {
   "cell_type": "code",
   "execution_count": 24,
   "metadata": {},
   "outputs": [
    {
     "name": "stdout",
     "output_type": "stream",
     "text": [
      "dear kainat,\n",
      " you are good\n",
      "\n"
     ]
    }
   ],
   "source": [
    "#escape character\n",
    "letter = \"dear kainat,\\n you are good\\n\"\n",
    "print(letter)\n",
    "  \n"
   ]
  },
  {
   "cell_type": "code",
   "execution_count": 1,
   "metadata": {},
   "outputs": [
    {
     "name": "stdout",
     "output_type": "stream",
     "text": [
      "apple\n",
      "graps\n",
      "['orange', 2, 3.3, False]\n"
     ]
    }
   ],
   "source": [
    " \n",
    "friend= [\"apple\",\"orange\",2,3.3,False]\n",
    "print(friend[0])\n",
    "friend[0]='graps'#unlike strings list are immutale\n",
    "print(friend[0])\n",
    "print(friend[1:5])"
   ]
  },
  {
   "cell_type": "code",
   "execution_count": 7,
   "metadata": {},
   "outputs": [
    {
     "name": "stdout",
     "output_type": "stream",
     "text": [
      "['graps', 'orange', 2, 3.3, False, 'harry', 'harry', 'harry', 'harry', 'harry']\n"
     ]
    }
   ],
   "source": [
    "#methods in list\n",
    "\n",
    "friend.append(\"harry\") \n",
    "print(friend)       "
   ]
  },
  {
   "cell_type": "code",
   "execution_count": 12,
   "metadata": {},
   "outputs": [
    {
     "name": "stdout",
     "output_type": "stream",
     "text": [
      "['graps', 'orange', 2, 3.3, False]\n"
     ]
    }
   ],
   "source": [
    "friend.remove(\"harry\")\n",
    "print(friend)"
   ]
  },
  {
   "cell_type": "code",
   "execution_count": 14,
   "metadata": {},
   "outputs": [
    {
     "name": "stdout",
     "output_type": "stream",
     "text": [
      "[1, 2, 3, 6, 8, 9]\n"
     ]
    }
   ],
   "source": [
    "num = [1,2,3,6,9,8]\n",
    "num.sort()\n",
    "print(num)"
   ]
  },
  {
   "cell_type": "code",
   "execution_count": 17,
   "metadata": {},
   "outputs": [
    {
     "name": "stdout",
     "output_type": "stream",
     "text": [
      "[9, 8, 6, 3, 2, 1]\n"
     ]
    }
   ],
   "source": [
    "num.reverse()\n",
    "print(num)"
   ]
  },
  {
   "cell_type": "code",
   "execution_count": 25,
   "metadata": {},
   "outputs": [
    {
     "name": "stdout",
     "output_type": "stream",
     "text": [
      "[9, 8, 6, 3333333, 3333333, 3333333, 3, 2, 1]\n"
     ]
    }
   ],
   "source": [
    "num.insert(3,3333333)\n",
    "print(num)"
   ]
  },
  {
   "cell_type": "code",
   "execution_count": 26,
   "metadata": {},
   "outputs": [],
   "source": [
    "num.remove(3333333)"
   ]
  },
  {
   "cell_type": "code",
   "execution_count": 37,
   "metadata": {},
   "outputs": [
    {
     "name": "stdout",
     "output_type": "stream",
     "text": [
      "[1, 5, 6]\n"
     ]
    }
   ],
   "source": [
    "same = [1,4,5,6]\n",
    "same.pop(1)\n",
    "print(same)"
   ]
  },
  {
   "cell_type": "code",
   "execution_count": 41,
   "metadata": {},
   "outputs": [
    {
     "name": "stdout",
     "output_type": "stream",
     "text": [
      "1 (1,)\n"
     ]
    }
   ],
   "source": [
    "#tuple\n",
    "#we cant change tuple\n",
    "a=(1)#python consider it as an integer\n",
    "b=(1,)#so we use comma\n",
    "print(a,b)"
   ]
  },
  {
   "cell_type": "code",
   "execution_count": 1,
   "metadata": {},
   "outputs": [
    {
     "name": "stdout",
     "output_type": "stream",
     "text": [
      "(1, 2, 3, 5, 1, False, 'Rohan')\n",
      "0\n",
      "True\n",
      "False\n"
     ]
    }
   ],
   "source": [
    "c =(1,2,3,5,1,False,\"Rohan\")\n",
    "c.count(1)\n",
    "print(c)\n",
    "a=c.index(1)\n",
    "print(a)\n",
    "print(3 in c)\n",
    "\n",
    "print(100 in c)"
   ]
  },
  {
   "cell_type": "code",
   "execution_count": 2,
   "metadata": {},
   "outputs": [
    {
     "name": "stdout",
     "output_type": "stream",
     "text": [
      "13\n"
     ]
    }
   ],
   "source": [
    "l=[1,3,4,5]\n",
    "print(sum(l))\n",
    "\n",
    "\n",
    "\n"
   ]
  },
  {
   "cell_type": "code",
   "execution_count": 4,
   "metadata": {},
   "outputs": [
    {
     "name": "stdout",
     "output_type": "stream",
     "text": [
      "2\n"
     ]
    }
   ],
   "source": [
    "a= (7,0,0,6,9)\n",
    "n= a.count(0)\n",
    "print(n)"
   ]
  },
  {
   "cell_type": "code",
   "execution_count": 103,
   "metadata": {},
   "outputs": [
    {
     "name": "stdout",
     "output_type": "stream",
     "text": [
      "[1, 2, 2, 2, 23, 234]\n"
     ]
    }
   ],
   "source": [
    "#code with harry chapter 4\n",
    "l1 =[ ]\n",
    "f1 =int(input(\"enter a  number\"))\n",
    "l1.append(f1)\n",
    "f2 =int(input(\"enter a marks number\"))\n",
    "l1.append(f2)\n",
    "f3 =int(input(\"enter a marks number\"))\n",
    "l1.append(f3)\n",
    "f4 =int(input(\"enter a marks number\"))\n",
    "l1.append(f4)\n",
    "f5 =int(input(\"enter a marks number\"))\n",
    "l1.append(f5)\n",
    "f6 =int(input(\"enter a marks number\"))\n",
    "l1.append(f6)\n",
    "print(l1)"
   ]
  },
  {
   "cell_type": "code",
   "execution_count": 104,
   "metadata": {},
   "outputs": [],
   "source": [
    "a=(34,345,\"harry\")\n",
    "#a[2] = \"harry\" it will give error"
   ]
  },
  {
   "cell_type": "code",
   "execution_count": 107,
   "metadata": {},
   "outputs": [
    {
     "name": "stdout",
     "output_type": "stream",
     "text": [
      "40\n"
     ]
    }
   ],
   "source": [
    "#chapter 5 dictionay and set\n",
    "d= {}#empty dictionary\n",
    "marks={\n",
    "    \"harrry\":100,\n",
    "    \"nabeel\":40,\n",
    "    \"umbrela\":67, \n",
    "\n",
    "}\n",
    "print(marks[\"nabeel\"])"
   ]
  },
  {
   "cell_type": "code",
   "execution_count": null,
   "metadata": {},
   "outputs": [
    {
     "name": "stdout",
     "output_type": "stream",
     "text": [
      "{'name': 'john', 'age': 23, 'city': 'new york'}\n",
      "{'name': 'kainat', 'age': 23, 'adress': 'Sailkot'}\n"
     ]
    }
   ],
   "source": [
    "\n",
    "person ={\n",
    "    \"name\":\"john\",\n",
    "    \"age\":23,\n",
    "    \"city\":\"new york\"}\n",
    "print(person)\n",
    "person[\"name\"]=\"kainat\"\n",
    "person[\"adress\"]=\"Sailkot\"\n",
    "del person[\"city\"]\n",
    "print(person)"
   ]
  },
  {
   "cell_type": "code",
   "execution_count": 28,
   "metadata": {},
   "outputs": [
    {
     "name": "stdout",
     "output_type": "stream",
     "text": [
      "this is present in dictionary\n",
      "dict_keys(['name', 'age', 'adress'])\n"
     ]
    }
   ],
   "source": [
    "if \"name\" in person:\n",
    "    print(\"this is present in dictionary\")\n",
    "else:\n",
    "    print(\"not found\")    \n",
    "print(person.keys())    \n",
    "\n"
   ]
  },
  {
   "cell_type": "code",
   "execution_count": 109,
   "metadata": {},
   "outputs": [
    {
     "name": "stdout",
     "output_type": "stream",
     "text": [
      "{'name': 'john', 'age': 89, 'city': 'new york', 'name1': 'Kianat', 'adress': 20}\n"
     ]
    }
   ],
   "source": [
    "#merged two dictionaries\n",
    "person ={\n",
    "    \"name\":\"john\",\n",
    "    \"age\":23,\n",
    "    \"city\":\"new york\"}\n",
    "one={\n",
    "    \"name1\":\"Kianat\",\n",
    "    \"age\":89,\n",
    "    \"adress\":20\\\n",
    "}\n",
    "merged_dic = {**person,**one}\n",
    "print(merged_dic)"
   ]
  },
  {
   "cell_type": "code",
   "execution_count": 36,
   "metadata": {},
   "outputs": [
    {
     "name": "stdout",
     "output_type": "stream",
     "text": [
      "age:23\n"
     ]
    }
   ],
   "source": [
    "for key ,value in person.items():\n",
    "    if key==\"age\":\n",
    "      print(f\"{key}:{value}\")"
   ]
  },
  {
   "cell_type": "code",
   "execution_count": 115,
   "metadata": {},
   "outputs": [
    {
     "name": "stdout",
     "output_type": "stream",
     "text": [
      "{'adress': 'Sailkot'}\n",
      "{'adress': 'Sailkot', 'age': 67}\n",
      "None\n",
      "{'adress': 'Sailkot', 'age': 67}\n",
      "{'adress': 'Sailkot', 'age': 67}\n"
     ]
    },
    {
     "data": {
      "text/plain": [
       "67"
      ]
     },
     "execution_count": 115,
     "metadata": {},
     "output_type": "execute_result"
    }
   ],
   "source": [
    "person[\"adress\"]=\"Sailkot\"#add a new key\n",
    "print(person)\n",
    "person.update({\"age\":67})#for giving a new value\n",
    "print(person)\n",
    "print(person.get(\"age1\"))#it will retuen none\n",
    "#print(person[\"age1\"])#it will give error\n",
    "print(person.copy())\n",
    "#print(person.clear())\n",
    "print(person)\n",
    "person.pop(\"age\",0)"
   ]
  },
  {
   "cell_type": "code",
   "execution_count": 117,
   "metadata": {},
   "outputs": [
    {
     "name": "stdout",
     "output_type": "stream",
     "text": [
      "<class 'set'>\n",
      "{1, 35, 4, 'kainat'}\n"
     ]
    }
   ],
   "source": [
    "#set \n",
    "s={1,4,35,\"kainat\"}\n",
    "e=set()#way to present an empty set\n",
    "print(type(e))\n",
    "print(s)\n"
   ]
  },
  {
   "cell_type": "code",
   "execution_count": null,
   "metadata": {},
   "outputs": [
    {
     "name": "stdout",
     "output_type": "stream",
     "text": [
      "{1, 35, 566, 'kainat'}\n"
     ]
    }
   ],
   "source": [
    "s.add(566)\n",
    "s.add(4)\n",
    "s.remove(4)\n",
    "s.discazrd(6)#discard avoid arrror if the element is already not presend in the set\n",
    "print(s"
   ]
  },
  {
   "cell_type": "code",
   "execution_count": 71,
   "metadata": {},
   "outputs": [
    {
     "name": "stdout",
     "output_type": "stream",
     "text": [
      "{1, 2, 3, 4, 5, 6, 7, 8, 9, 10}\n",
      "{10}\n",
      "{8, 2, 4, 6}\n",
      "set()\n",
      "False\n",
      "False\n"
     ]
    }
   ],
   "source": [
    "s1={2,4,6,8,10}\n",
    "s2={1,3,5,7,9,10}\n",
    "print(s1.union(s2))\n",
    "print(s1.intersection(s2))#first set is the super set of other if all elments of second sets are present in the first\n",
    "print(s1.difference(s2))\n",
    "print(s1.symmetric_difference(s1))#return the element that is not common in both sets\n",
    "print(s1.issubset(s2))#idf all the element of first are present in second\n",
    "print(s1.issuperset(s2))#idf all the element of first are present in second and all elements of second are presendt in first\n",
    "#print(s1.clear(),s2.clear())"
   ]
  },
  {
   "cell_type": "code",
   "execution_count": 73,
   "metadata": {},
   "outputs": [
    {
     "name": "stdout",
     "output_type": "stream",
     "text": [
      "{2, 4, 6, 8}\n"
     ]
    }
   ],
   "source": [
    "s1.difference_update(s2)#it modifies s1 by removing all elements that are present in s2\n",
    "print(s1)"
   ]
  },
  {
   "cell_type": "code",
   "execution_count": 83,
   "metadata": {},
   "outputs": [
    {
     "name": "stdout",
     "output_type": "stream",
     "text": [
      " name :alice\n",
      " age :23\n",
      " class :mfail\n",
      " name :alice\n",
      " age :23\n",
      " class :mfail\n"
     ]
    }
   ],
   "source": [
    "person1={ 'name':'alice',\n",
    "         'age':23,   \n",
    "         \"class\":\"mfail\"}    \n",
    "for key , values in person1.items():\n",
    "    print(f\" {key} :{values}\")#person1[key]this will assign value\n",
    "for key in person1:\n",
    "    print(f\" {key} :{person1[key]}\")#person1[key]this will assign value"
   ]
  },
  {
   "cell_type": "code",
   "execution_count": 86,
   "metadata": {},
   "outputs": [
    {
     "name": "stdout",
     "output_type": "stream",
     "text": [
      "pyayers\n"
     ]
    }
   ],
   "source": [
    "words ={\n",
    "    \"madad\":\"help\",\n",
    "    \"nazar\":\"eyes\",\n",
    "    \"dua\":\"pyayers\"\n",
    "}\n",
    "word = input(\"enter the wordd you want to print\")\n",
    "print(words[word])"
   ]
  },
  {
   "cell_type": "code",
   "execution_count": 95,
   "metadata": {},
   "outputs": [
    {
     "name": "stdout",
     "output_type": "stream",
     "text": [
      "{2, 3, 4, 5, 6, 7, 8, 9, 67}\n"
     ]
    }
   ],
   "source": [
    "s2=set()\n",
    "n =input(\"enter a number \")\n",
    "s2.add(int(n))\n",
    "\n",
    "n =input(\"enter a number \")\n",
    "s2.add(int(n))\n",
    "n =input(\"enter a number \")\n",
    "s2.add(int(n))\n",
    "n =input(\"enter a number \")\n",
    "s2.add(int(n))\n",
    "n =input(\"enter a number \")\n",
    "s2.add(int(n))\n",
    "n =input(\"enter a number \")\n",
    "s2.add(int(n))\n",
    "n =input(\"enter a number \")\n",
    "s2.add(int(n))\n",
    "n =input(\"enter a number \")\n",
    "s2.add(int(n))\n",
    "n =input(\"enter a number \")\n",
    "s2.add(int(n))\n",
    "n =input(\"enter a number \")\n",
    "s2.add(int(n))\n",
    "print(s2)"
   ]
  },
  {
   "cell_type": "code",
   "execution_count": 96,
   "metadata": {},
   "outputs": [
    {
     "name": "stdout",
     "output_type": "stream",
     "text": [
      "{16, '16'}\n"
     ]
    }
   ],
   "source": [
    "s = {16,\"16\"}\n",
    "print(s)"
   ]
  },
  {
   "cell_type": "code",
   "execution_count": null,
   "metadata": {},
   "outputs": [
    {
     "name": "stdout",
     "output_type": "stream",
     "text": [
      "{18, '18'}\n"
     ]
    }
   ],
   "source": [
    "s= set()\n",
    "s.add(18)\n",
    "s.add(\"18\")\n",
    "print(s)"
   ]
  },
  {
   "cell_type": "code",
   "execution_count": 2,
   "metadata": {},
   "outputs": [
    {
     "name": "stdout",
     "output_type": "stream",
     "text": [
      "2\n"
     ]
    }
   ],
   "source": [
    "s= set()\n",
    "s.add(20)\n",
    "s.add(\"20\")\n",
    "print(len(s))"
   ]
  },
  {
   "cell_type": "code",
   "execution_count": 4,
   "metadata": {},
   "outputs": [
    {
     "name": "stdout",
     "output_type": "stream",
     "text": [
      "{'kainat': 'python', 'amina': 'cpp', 'yasir': 'java', 'nabeel': 'Csss', 'kinata': 'python', 'sheeza': 'mal', 'aliza': 'C_++'}\n"
     ]
    }
   ],
   "source": [
    "d={}\n",
    "name = input(\"enter friend name\")\n",
    "lang = input(\"enter language name\")\n",
    "d.update({name :lang})\n",
    "name = input(\"enter friend name\")\n",
    "lang = input(\"enter language name\")\n",
    "d.update({name :lang})\n",
    "name = input(\"enter friend name\")\n",
    "lang = input(\"enter language name\")\n",
    "d.update({name :lang})\n",
    "name = input(\"enter friend name\")\n",
    "lang = input(\"enter language name\")\n",
    "d.update({name :lang})\n",
    "name = input(\"enter friend name\")\n",
    "lang = input(\"enter language name\")\n",
    "d.update({name :lang})\n",
    "name = input(\"enter friend name\")\n",
    "lang = input(\"enter language name\")\n",
    "d.update({name :lang})\n",
    "name = input(\"enter friend name\")\n",
    "lang = input(\"enter language name\")\n",
    "d.update({name :lang})\n",
    "print(d)"
   ]
  },
  {
   "cell_type": "code",
   "execution_count": null,
   "metadata": {},
   "outputs": [
    {
     "name": "stdout",
     "output_type": "stream",
     "text": [
      "you are entering in valid number\n",
      "good\n"
     ]
    }
   ],
   "source": [
    "#conditional statement\n",
    "a=int(input(\"enter your age\"))\n",
    "if(a>18):\n",
    "    print(\"you are eligible\")\n",
    "elif(a<0):\n",
    "    print(\"you are entering in valid number\")    \n",
    "else:\n",
    "    print(\"not good for you\")        \n",
    "print(\"good\" )    \n"
   ]
  },
  {
   "cell_type": "code",
   "execution_count": 1,
   "metadata": {},
   "outputs": [
    {
     "name": "stdout",
     "output_type": "stream",
     "text": [
      "{18, '18'}\n"
     ]
    }
   ],
   "source": [
    "s= set()\n",
    "s.add(18)\n",
    "s.add(\"18\")\n",
    "print(s)\n"
   ]
  },
  {
   "cell_type": "code",
   "execution_count": null,
   "metadata": {},
   "outputs": [
    {
     "name": "stdout",
     "output_type": "stream",
     "text": [
      "yes\n"
     ]
    }
   ],
   "source": [
    "age = int(input(\"enter a age \"))\n",
    "if age >18 :\n",
    "    print(\"yes\")\n",
    "else:\n",
    "    print(\"no\")"
   ]
  },
  {
   "cell_type": "code",
   "execution_count": 3,
   "metadata": {},
   "outputs": [
    {
     "name": "stdout",
     "output_type": "stream",
     "text": [
      "you are fail\n"
     ]
    }
   ],
   "source": [
    "marks1 = int(input(\"enter your marks\"))\n",
    "marks2 = int(input(\"enter your marks\"))\n",
    "marks3 = int(input(\"enter your marks\"))\n",
    "percentage_marks = (100*(marks1 + marks2+ marks3))/300\n",
    "if percentage_marks >= 40 and marks1 >=33 and marks2 >= 33 and marks3>= 33:\n",
    "    print(\"you are pass\", percentage_marks)\n",
    "elif percentage_marks < 33 :\n",
    "    print(\"you are fail\")\n",
    "else:\n",
    "    print(\"you inout wrong marks\")       "
   ]
  },
  {
   "cell_type": "code",
   "execution_count": 7,
   "metadata": {},
   "outputs": [
    {
     "name": "stdout",
     "output_type": "stream",
     "text": [
      "this is spam\n"
     ]
    }
   ],
   "source": [
    "C1 = \"not good\"\n",
    "C2 = \"money gaining\"\n",
    "C3 = \" hack it hacking\"\n",
    "message =input(\"enter a message\")\n",
    "if ((C1 in message) or (C2 in message) or (C3 in message)):\n",
    "    print(\"this is spam\")\n",
    "else:\n",
    "    print(\"not spam\")    "
   ]
  },
  {
   "cell_type": "code",
   "execution_count": 8,
   "metadata": {},
   "outputs": [
    {
     "name": "stdout",
     "output_type": "stream",
     "text": [
      "it is too long\n"
     ]
    }
   ],
   "source": [
    "name = input(\"enter a name\")\n",
    "if len(name)>10:\n",
    "    print(\"it is too long\")\n",
    "else :\n",
    "    print(\"all right\")    "
   ]
  },
  {
   "cell_type": "code",
   "execution_count": 11,
   "metadata": {},
   "outputs": [
    {
     "name": "stdout",
     "output_type": "stream",
     "text": [
      "your name is not in the list\n"
     ]
    }
   ],
   "source": [
    "N1 = [\"kainat \",\"nabeeel\",\"bilawal\",\"yasir\",\"amina\"]\n",
    "name = input(\"enter a name\")\n",
    "if name in N1:\n",
    "    print(\"you have your name int he list\")\n",
    "else:\n",
    "    print(\"your name is not in the list\")    "
   ]
  },
  {
   "cell_type": "code",
   "execution_count": null,
   "metadata": {},
   "outputs": [
    {
     "name": "stdout",
     "output_type": "stream",
     "text": [
      "this is about kaint\n"
     ]
    }
   ],
   "source": [
    "post = input(\"enter the post:\")\n",
    "if(\"Kainat \".lower()in post.lower()):\n",
    "    print(\"this is about kainat\")\n",
    "else:\n",
    "    print(\"this is not about kainat\")    "
   ]
  },
  {
   "cell_type": "code",
   "execution_count": 15,
   "metadata": {},
   "outputs": [
    {
     "name": "stdout",
     "output_type": "stream",
     "text": [
      "kainat \n",
      "1\n",
      "False\n",
      "True\n",
      "good\n"
     ]
    }
   ],
   "source": [
    "l=[\"kainat \",1,False,True,\"good\"]\n",
    "i = 0\n",
    "while (i < len(l)):\n",
    "    print(l[i])\n",
    "    i +=1"
   ]
  },
  {
   "cell_type": "code",
   "execution_count": 17,
   "metadata": {},
   "outputs": [
    {
     "name": "stdout",
     "output_type": "stream",
     "text": [
      "1\n",
      "11\n",
      "21\n",
      "31\n",
      "41\n",
      "51\n",
      "61\n",
      "71\n",
      "81\n",
      "91\n"
     ]
    }
   ],
   "source": [
    "#step size\n",
    "i=[]\n",
    "for i in range(1,100,10):\n",
    "    print(i)"
   ]
  },
  {
   "cell_type": "code",
   "execution_count": 19,
   "metadata": {},
   "outputs": [
    {
     "name": "stdout",
     "output_type": "stream",
     "text": [
      "k\n",
      "a\n",
      "i\n",
      "n\n",
      "a\n",
      "t\n"
     ]
    }
   ],
   "source": [
    "s =\"kainat\"\n",
    "for i in s:\n",
    "    print(i)"
   ]
  },
  {
   "cell_type": "code",
   "execution_count": 20,
   "metadata": {},
   "outputs": [
    {
     "name": "stdout",
     "output_type": "stream",
     "text": [
      "1\n",
      "2\n",
      "3\n",
      "4\n",
      "5\n",
      "done\n"
     ]
    }
   ],
   "source": [
    "#for loop with ekse\n",
    "l = [1,2,3,4,5]\n",
    "for item in l:\n",
    "    print(item)\n",
    "else:\n",
    "    print(\"done\")    "
   ]
  },
  {
   "cell_type": "code",
   "execution_count": 22,
   "metadata": {},
   "outputs": [
    {
     "name": "stdout",
     "output_type": "stream",
     "text": [
      "0\n",
      "1\n",
      "2\n",
      "3\n",
      "4\n",
      "5\n",
      "6\n",
      "7\n",
      "8\n",
      "9\n",
      "10\n",
      "11\n",
      "12\n",
      "13\n",
      "14\n",
      "15\n",
      "16\n",
      "17\n",
      "18\n",
      "19\n",
      "20\n",
      "21\n",
      "22\n",
      "23\n",
      "24\n"
     ]
    }
   ],
   "source": [
    "#break is used to completely finish th eremaining loop\n",
    "for i in range(100):\n",
    "    if i== 25:\n",
    "        break\n",
    "    print(i)"
   ]
  },
  {
   "cell_type": "code",
   "execution_count": 23,
   "metadata": {},
   "outputs": [
    {
     "name": "stdout",
     "output_type": "stream",
     "text": [
      "0\n",
      "1\n",
      "2\n",
      "3\n",
      "4\n",
      "5\n",
      "6\n",
      "7\n",
      "8\n",
      "9\n",
      "10\n",
      "11\n",
      "12\n",
      "13\n",
      "14\n",
      "15\n",
      "16\n",
      "17\n",
      "18\n",
      "19\n",
      "20\n",
      "21\n",
      "22\n",
      "23\n",
      "24\n",
      "25\n",
      "26\n",
      "27\n",
      "28\n",
      "29\n",
      "30\n",
      "31\n",
      "32\n",
      "33\n",
      "35\n",
      "36\n",
      "37\n",
      "38\n",
      "39\n"
     ]
    }
   ],
   "source": [
    "#continue just skip tha specific iteration\n",
    "for i in range(40):\n",
    "    if i ==34:\n",
    "        continue\n",
    "    print(i)"
   ]
  },
  {
   "cell_type": "code",
   "execution_count": 25,
   "metadata": {},
   "outputs": [
    {
     "name": "stdout",
     "output_type": "stream",
     "text": [
      "0\n",
      "1\n",
      "2\n",
      "3\n",
      "4\n",
      "5\n",
      "6\n",
      "7\n",
      "8\n",
      "9\n",
      "10\n",
      "11\n",
      "12\n",
      "13\n",
      "14\n",
      "15\n",
      "16\n",
      "17\n",
      "18\n",
      "19\n",
      "20\n",
      "21\n",
      "22\n",
      "23\n",
      "24\n",
      "25\n",
      "26\n",
      "27\n",
      "28\n",
      "29\n",
      "30\n",
      "31\n",
      "32\n",
      "33\n",
      "35\n",
      "36\n",
      "37\n",
      "38\n",
      "39\n"
     ]
    }
   ],
   "source": [
    "#pass we use it if we want to do nothing in for loop\n",
    "for i in range(100):\n",
    "    pass\n",
    "\n",
    "\n",
    "\n",
    "\n",
    "\n",
    "for i in range(40):\n",
    "    if i ==34:\n",
    "        continue\n",
    "    print(i)\n",
    "\n"
   ]
  },
  {
   "cell_type": "code",
   "execution_count": 28,
   "metadata": {},
   "outputs": [
    {
     "name": "stdout",
     "output_type": "stream",
     "text": [
      "2 x 1 = 2\n",
      "2 x 2 = 4\n",
      "2 x 3 = 6\n",
      "2 x 4 = 8\n",
      "2 x 5 = 10\n",
      "2 x 6 = 12\n",
      "2 x 7 = 14\n",
      "2 x 8 = 16\n",
      "2 x 9 = 18\n",
      "2 x 10 = 20\n"
     ]
    }
   ],
   "source": [
    "n = int(input(\"enter a number\"))\n",
    "\n",
    "for i in range(1,11):\n",
    "    print(f\"{n} x {i} = {n * i}\")"
   ]
  },
  {
   "cell_type": "code",
   "execution_count": 1,
   "metadata": {},
   "outputs": [
    {
     "name": "stdout",
     "output_type": "stream",
     "text": [
      "hello yasir\n"
     ]
    }
   ],
   "source": [
    "l = [\"harry \",\"kaint\",\"fatima\",\"babar\",\"yasir\"]\n",
    "for name in l:\n",
    "    if(name.startswith(\"y\")):\n",
    "        print(f\"hello {name}\")"
   ]
  },
  {
   "cell_type": "code",
   "execution_count": 33,
   "metadata": {},
   "outputs": [
    {
     "name": "stdout",
     "output_type": "stream",
     "text": [
      "5 x 1 = 5\n",
      "5 x 2 = 10\n",
      "5 x 3 = 15\n",
      "5 x 4 = 20\n",
      "5 x 5 = 25\n",
      "5 x 6 = 30\n",
      "5 x 7 = 35\n",
      "5 x 8 = 40\n",
      "5 x 9 = 45\n",
      "5 x 10 = 50\n"
     ]
    }
   ],
   "source": [
    "n = int(input(\"enter a number\"))\n",
    "i = 1\n",
    "while(i<11):\n",
    "    print(f\"{n} x {i} = {n*i}\")\n",
    "    i += 1"
   ]
  },
  {
   "cell_type": "code",
   "execution_count": 37,
   "metadata": {},
   "outputs": [
    {
     "name": "stdout",
     "output_type": "stream",
     "text": [
      "number is not prime\n"
     ]
    }
   ],
   "source": [
    "n= int(input(\"enter anumber\"))\n",
    "for i in range(2,n):\n",
    "    if(n%i)==0:\n",
    "        print(\"number is not prime\")\n",
    "        break\n",
    "else:\n",
    "    print(\"number is prime\")    \n",
    "    "
   ]
  },
  {
   "cell_type": "code",
   "execution_count": 46,
   "metadata": {},
   "outputs": [
    {
     "name": "stdout",
     "output_type": "stream",
     "text": [
      "55\n"
     ]
    }
   ],
   "source": [
    "n = int(input(\"enter a number\"))\n",
    "i=0\n",
    "sum=0\n",
    "while(i<=n):\n",
    "    sum += i\n",
    "    i+=1\n",
    "print(sum)    "
   ]
  },
  {
   "cell_type": "code",
   "execution_count": 50,
   "metadata": {},
   "outputs": [
    {
     "name": "stdout",
     "output_type": "stream",
     "text": [
      "the factorial of3 is 6\n"
     ]
    }
   ],
   "source": [
    "#factorial\n",
    "#5! = 1x2x3x4x5\n",
    "n = int(input(\"enter a number\"))\n",
    "product = 1\n",
    "for i in range(1,n+1):\n",
    "    product = product*i\n",
    "\n",
    "print(f\"the factorial of{n} is {product}\")\n",
    "\n"
   ]
  },
  {
   "cell_type": "code",
   "execution_count": 54,
   "metadata": {},
   "outputs": [
    {
     "name": "stdout",
     "output_type": "stream",
     "text": [
      "     *\n",
      "    ***\n",
      "   *****\n",
      "  *******\n",
      " *********\n",
      "***********\n"
     ]
    }
   ],
   "source": [
    "n = int(input(\"enter a number\"))\n",
    "for i in range(1,n+1):\n",
    "    print(\" \"* (n-i),end=\"\")\n",
    "    print(\"*\"* (2*i-1),end=\"\")\n",
    "    print(\"\")"
   ]
  },
  {
   "cell_type": "code",
   "execution_count": null,
   "metadata": {},
   "outputs": [
    {
     "name": "stdout",
     "output_type": "stream",
     "text": [
      "*\n",
      "***\n",
      "*****\n"
     ]
    }
   ],
   "source": [
    "n = int(input(\"enter a number\"))\n",
    "for i in range(1,n+1):\n",
    "    print(\"*\"* (2*i-1),end=\"\")\n",
    "    print(\"\")"
   ]
  },
  {
   "cell_type": "code",
   "execution_count": null,
   "metadata": {},
   "outputs": [
    {
     "name": "stdout",
     "output_type": "stream",
     "text": [
      "* * * * * \n",
      "*       * \n",
      "*       * \n",
      "*       * \n",
      "* * * * * \n"
     ]
    }
   ],
   "source": [
    "size = int(input(\"enter a number\"))\n",
    "\n",
    "for i in range(size):\n",
    "    for j in range(size):\n",
    "        # print star at borders, else space\n",
    "        if i == 0 or i == size-1 or j == 0 or j == size-1:\n",
    "            print(\"*\", end=\" \")\n",
    "        else:\n",
    "            print(\" \", end=\" \")\n",
    "    print()\n"
   ]
  },
  {
   "cell_type": "code",
   "execution_count": 62,
   "metadata": {},
   "outputs": [
    {
     "name": "stdout",
     "output_type": "stream",
     "text": [
      "***\n",
      "* *\n",
      "***\n"
     ]
    }
   ],
   "source": [
    "n = int(input(\"enter a number\"))\n",
    "for i in range(1,n+1):\n",
    "    if i==1 or i==n:\n",
    "        print(\"*\"*n,end=\"\")\n",
    "    else:\n",
    "        print(\"*\",end=\"\")\n",
    "        print(\" \"*(n-2),end=\"\")\n",
    "        print(\"*\",end=\"\")\n",
    "    print(\"\")    \n",
    "      "
   ]
  },
  {
   "cell_type": "code",
   "execution_count": 1,
   "metadata": {},
   "outputs": [
    {
     "name": "stdout",
     "output_type": "stream",
     "text": [
      "3 x 10 = 30\n",
      "3 x 9 = 27\n",
      "3 x 8 = 24\n",
      "3 x 7 = 21\n",
      "3 x 6 = 18\n",
      "3 x 5 = 15\n",
      "3 x 4 = 12\n",
      "3 x 3 = 9\n",
      "3 x 2 = 6\n",
      "3 x 1 = 3\n"
     ]
    }
   ],
   "source": [
    "n= int(input(\"ente ra number\"))\n",
    "for i in range(1,11):\n",
    "    print(f\"{n} x {11-i} = {n*(11-i)}\")"
   ]
  },
  {
   "cell_type": "code",
   "execution_count": 2,
   "metadata": {},
   "outputs": [
    {
     "ename": "ValueError",
     "evalue": "invalid literal for int() with base 10: ''",
     "output_type": "error",
     "traceback": [
      "\u001b[1;31m---------------------------------------------------------------------------\u001b[0m",
      "\u001b[1;31mValueError\u001b[0m                                Traceback (most recent call last)",
      "Cell \u001b[1;32mIn[2], line 10\u001b[0m\n\u001b[0;32m      8\u001b[0m     \u001b[38;5;28mprint\u001b[39m(average)\n\u001b[0;32m      9\u001b[0m \u001b[38;5;66;03m#function call    \u001b[39;00m\n\u001b[1;32m---> 10\u001b[0m \u001b[43mavg\u001b[49m\u001b[43m(\u001b[49m\u001b[43m)\u001b[49m    \n\u001b[0;32m     11\u001b[0m avg()    \n\u001b[0;32m     12\u001b[0m avg()    \n",
      "Cell \u001b[1;32mIn[2], line 6\u001b[0m, in \u001b[0;36mavg\u001b[1;34m()\u001b[0m\n\u001b[0;32m      4\u001b[0m a1\u001b[38;5;241m=\u001b[39m\u001b[38;5;28mint\u001b[39m(\u001b[38;5;28minput\u001b[39m(\u001b[38;5;124m\"\u001b[39m\u001b[38;5;124menter your number\u001b[39m\u001b[38;5;124m\"\u001b[39m))\n\u001b[0;32m      5\u001b[0m a2\u001b[38;5;241m=\u001b[39m\u001b[38;5;28mint\u001b[39m(\u001b[38;5;28minput\u001b[39m(\u001b[38;5;124m\"\u001b[39m\u001b[38;5;124menter your number\u001b[39m\u001b[38;5;124m\"\u001b[39m))\n\u001b[1;32m----> 6\u001b[0m a3\u001b[38;5;241m=\u001b[39m\u001b[38;5;28;43mint\u001b[39;49m\u001b[43m(\u001b[49m\u001b[38;5;28;43minput\u001b[39;49m\u001b[43m(\u001b[49m\u001b[38;5;124;43m\"\u001b[39;49m\u001b[38;5;124;43menter your number\u001b[39;49m\u001b[38;5;124;43m\"\u001b[39;49m\u001b[43m)\u001b[49m\u001b[43m)\u001b[49m\n\u001b[0;32m      7\u001b[0m average \u001b[38;5;241m=\u001b[39m (a1 \u001b[38;5;241m+\u001b[39ma2 \u001b[38;5;241m+\u001b[39ma3)\u001b[38;5;241m/\u001b[39m\u001b[38;5;241m3\u001b[39m\n\u001b[0;32m      8\u001b[0m \u001b[38;5;28mprint\u001b[39m(average)\n",
      "\u001b[1;31mValueError\u001b[0m: invalid literal for int() with base 10: ''"
     ]
    }
   ],
   "source": [
    "#ffunctions\n",
    "#function defination\n",
    "def avg():\n",
    "    a1=int(input(\"enter your number\"))\n",
    "    a2=int(input(\"enter your number\"))\n",
    "    a3=int(input(\"enter your number\"))\n",
    "    average = (a1 +a2 +a3)/3\n",
    "    print(average)\n",
    "#function call    \n",
    "avg()    \n",
    "avg()    \n",
    "avg()    \n",
    "avg()    \n",
    "avg()    \n",
    "avg()    \n",
    "avg()\n",
    " "
   ]
  },
  {
   "cell_type": "code",
   "execution_count": null,
   "metadata": {},
   "outputs": [
    {
     "name": "stdout",
     "output_type": "stream",
     "text": [
      "hello Kainat thanks you\n",
      "hello babar thanks\n",
      "hello ali good\n",
      "hello yasir fine\n"
     ]
    }
   ],
   "source": [
    "#function with arguments\n",
    "def greeting(name,greet):\n",
    "    print(\"hello\",name,end = \" \")\n",
    "    print(greet)\n",
    "greeting(\"Kainat\",\"thanks you\")    \n",
    "greeting(\"babar\",\"thanks\")    \n",
    "greeting(\"ali\",\"good\")    \n",
    "greeting(\"yasir\",\"fine\")    "
   ]
  },
  {
   "cell_type": "code",
   "execution_count": null,
   "metadata": {},
   "outputs": [
    {
     "name": "stdout",
     "output_type": "stream",
     "text": [
      "hello Kainat thanks you\n",
      "None\n"
     ]
    }
   ],
   "source": [
    "def greeting(name,greet):\n",
    "    print(\"hello\",name,end = \" \")\n",
    "    print(greet)\n",
    "a = greeting(\"Kainat\",\"thanks you\") \n",
    "print(a)# it will give none becouse ther is nothing left after function\n",
    "\n"
   ]
  },
  {
   "cell_type": "code",
   "execution_count": 71,
   "metadata": {},
   "outputs": [
    {
     "name": "stdout",
     "output_type": "stream",
     "text": [
      "hello Kainat thanks you\n",
      "good\n"
     ]
    }
   ],
   "source": [
    "def greeting(name,greet):\n",
    "    print(\"hello\",name,end = \" \")\n",
    "    print(greet)\n",
    "    return \"good\"\n",
    "\n",
    "a = greeting(\"Kainat\",\"thanks you\") \n",
    "print(a)#if i place return  it wil give a vlue to the variabke a\n",
    "\n"
   ]
  },
  {
   "cell_type": "code",
   "execution_count": 72,
   "metadata": {},
   "outputs": [
    {
     "name": "stdout",
     "output_type": "stream",
     "text": [
      "hello Kainat\n",
      "thanks you\n",
      "hello Kainatoo\n",
      "thanks\n"
     ]
    }
   ],
   "source": [
    "def greeting(name,greet=\"thanks\"):\n",
    "    print(\"hello\",name)\n",
    "    print(greet)\n",
    "greeting(\"Kainat\",\"thanks you\") \n",
    "greeting(\"Kainatoo\",) \n"
   ]
  },
  {
   "cell_type": "code",
   "execution_count": 5,
   "metadata": {},
   "outputs": [
    {
     "data": {
      "text/plain": [
       "1"
      ]
     },
     "execution_count": 5,
     "metadata": {},
     "output_type": "execute_result"
    }
   ],
   "source": [
    "#recursive funcion\n",
    "'''\n",
    "factorial(5) = 5x4x3x2x1\n",
    "factorial(4) = 4x3x2x1\n",
    "factorial(3) = 3x2x1\n",
    "factorial(2) = 2x1\n",
    "factorial(1) = 1\n",
    "factorial(N) = n* factorial(n-1)\n",
    "'''\n",
    "def factorial(n):\n",
    "    if(n==1 or n==0):\n",
    "        return 1\n",
    "    return n* factorial(n-1)\n",
    "\n",
    "factorial(1)"
   ]
  },
  {
   "cell_type": "code",
   "execution_count": 8,
   "metadata": {},
   "outputs": [
    {
     "name": "stdout",
     "output_type": "stream",
     "text": [
      "37.78\n"
     ]
    }
   ],
   "source": [
    "def f_to_c(f):\n",
    "    return 5*(f-32)/9\n",
    "f = int(input(\"enter tem in farenhite\"))\n",
    "c =f_to_c(f)\n",
    "print(round(c,2))"
   ]
  },
  {
   "cell_type": "code",
   "execution_count": 10,
   "metadata": {},
   "outputs": [
    {
     "name": "stdout",
     "output_type": "stream",
     "text": [
      "10\n"
     ]
    }
   ],
   "source": [
    "#sum of natural numbers we use reursive condition here\n",
    "def sum(n):\n",
    "    if(n==1):\n",
    "        return 1\n",
    "    return sum(n-1) +n\n",
    "print(sum(4))"
   ]
  },
  {
   "cell_type": "code",
   "execution_count": 12,
   "metadata": {},
   "outputs": [
    {
     "name": "stdout",
     "output_type": "stream",
     "text": [
      "*****\n",
      "****\n",
      "***\n",
      "**\n",
      "*\n"
     ]
    }
   ],
   "source": [
    "def pattern(n):\n",
    "    if(n==0):\n",
    "        return n\n",
    "    print( \"*\"*n)\n",
    "    pattern(n-1)\n",
    "pattern(5)"
   ]
  },
  {
   "cell_type": "markdown",
   "metadata": {},
   "source": [
    "map: This function takes a function and a collection (like an array) and returns a new collection where each element is the result of applying the function to the corresponding element in the original collection. For example, mapping a \"square\" function over [1, 2, produces [1,. It transforms data by applying the function to each item.\n",
    "\n",
    "filter: This function takes a predicate function (which returns true or false) and a collection and returns a new collection containing only those elements for which the predicate returns true. For example, filtering even numbers from  returns . It selects data based on conditions.\n",
    "\n",
    "reduce: This function takes a binary function (like addition), a collection, and an initial accumulator value. It processes elements in the collection, applying the function cumulatively to combine them into a single value. For example, reducing [1, with addition and initial 0 results in 10. It folds a collection into one result.\n",
    "\n",
    "enumerate (common in languages like Python): This returns pairs of (index, element) when iterating over a collection. It is useful when you need both the position and value during iteration."
   ]
  },
  {
   "cell_type": "code",
   "execution_count": 2,
   "metadata": {},
   "outputs": [
    {
     "name": "stdout",
     "output_type": "stream",
     "text": [
      "[2, 4, 6, 8, 10, 12]\n"
     ]
    }
   ],
   "source": [
    "  #applying  map() function\n",
    "\n",
    "def double(n):\n",
    "    return 2*n\n",
    "number = [1,2,3,4,5,6]\n",
    "doubled = list(map(double,number))\n",
    "print(doubled)"
   ]
  },
  {
   "cell_type": "code",
   "execution_count": null,
   "metadata": {},
   "outputs": [
    {
     "name": "stdout",
     "output_type": "stream",
     "text": [
      "[2, 6]\n"
     ]
    }
   ],
   "source": [
    "#filter functions\n",
    "def is_even(x):\n",
    "    return x%2 == 0 \n",
    "num1=[1,2,3,45,6]\n",
    "numbers = list(filter(is_even,num1))\n",
    "print(numbers)"
   ]
  },
  {
   "cell_type": "code",
   "execution_count": 10,
   "metadata": {},
   "outputs": [
    {
     "name": "stdout",
     "output_type": "stream",
     "text": [
      "120\n"
     ]
    }
   ],
   "source": [
    "#reduce function\n",
    "from functools import reduce\n",
    "def multiply(x,y):\n",
    "    return x*y \n",
    "num1=[1,2,3,4,5]\n",
    "numbers = reduce(multiply,num1)\n",
    "print(numbers)"
   ]
  },
  {
   "cell_type": "code",
   "execution_count": 14,
   "metadata": {},
   "outputs": [
    {
     "name": "stdout",
     "output_type": "stream",
     "text": [
      "{'kainat': 23, 'nabeel': 45, 'bilawal': 56, 'yasir': 24}\n",
      "[('kainat', 23), ('nabeel', 45), ('bilawal', 56), ('yasir', 24)]\n",
      "(('kainat', 23), ('nabeel', 45), ('bilawal', 56), ('yasir', 24))\n"
     ]
    }
   ],
   "source": [
    "#zip function\n",
    "names = [\"kainat\",\"nabeel\",\"bilawal\",\"yasir\"]\n",
    "ages = [23,45,56,24]\n",
    "combine = dict(zip(names,ages))\n",
    "print(combine)\n",
    "combine = list(zip(names,ages))\n",
    "print(combine)\n",
    "combine = tuple(zip(names,ages))\n",
    "print(combine)"
   ]
  },
  {
   "cell_type": "code",
   "execution_count": null,
   "metadata": {},
   "outputs": [
    {
     "name": "stdout",
     "output_type": "stream",
     "text": [
      "2: Apple\n",
      "3: Banana\n",
      "4: Orange\n"
     ]
    }
   ],
   "source": [
    "#enumerate can change the index \n",
    "fruits = [\"Apple\" ,\"Banana\" ,\"Orange\"]\n",
    "for index , fruit in enumerate(fruits,start = 2):\n",
    "    print(f\"{index}: {fruit}\")"
   ]
  },
  {
   "cell_type": "code",
   "execution_count": null,
   "metadata": {},
   "outputs": [
    {
     "name": "stdout",
     "output_type": "stream",
     "text": [
      "True\n",
      "False\n"
     ]
    }
   ],
   "source": [
    "# is compare the memory location if it give true that means they have same memory location\n",
    "a=[1,2,3]\n",
    "b=a\n",
    "c=[1,2,3]\n",
    "print(b is a)#give true\n",
    "print(a is c)# give false because memory location is different"
   ]
  },
  {
   "cell_type": "code",
   "execution_count": 26,
   "metadata": {},
   "outputs": [
    {
     "name": "stdout",
     "output_type": "stream",
     "text": [
      "True\n",
      "True\n"
     ]
    }
   ],
   "source": [
    "# == it just compare the values of two objects\n",
    "a=[1,2,3]\n",
    "b=a\n",
    "c=[1,2,3]\n",
    "print(b == a)#give true\n",
    "print(a == c)#give true\n"
   ]
  },
  {
   "cell_type": "code",
   "execution_count": null,
   "metadata": {},
   "outputs": [
    {
     "name": "stdout",
     "output_type": "stream",
     "text": [
      "False\n",
      "True\n",
      "False\n",
      "True\n"
     ]
    }
   ],
   "source": [
    "a=1000\n",
    "b= 1000\n",
    "print(a is b)#python caches vales till 256 so they have same memory location\n",
    "a=256\n",
    "b= 256\n",
    "print(a is b)\n",
    "a=257\n",
    "b= 257\n",
    "print(a is b)\n",
    "a=10\n",
    "b= 10\n",
    "print(a is b)"
   ]
  },
  {
   "cell_type": "code",
   "execution_count": null,
   "metadata": {},
   "outputs": [],
   "source": [
    "#file i/o\n",
    "#ram random accesss memory is volatile\n",
    "#a = \"a very long stringg with emaoil\n",
    "# email = []\n",
    "# 3 second\"\n",
    "\n",
    "\n"
   ]
  },
  {
   "cell_type": "code",
   "execution_count": 3,
   "metadata": {},
   "outputs": [
    {
     "name": "stdout",
     "output_type": "stream",
     "text": [
      "True\n"
     ]
    }
   ],
   "source": [
    "def ispalidrome(s):\n",
    "    return s == s[::-1]\n",
    "s = \"dad\"\n",
    "print(ispalidrome(s))"
   ]
  },
  {
   "cell_type": "markdown",
   "metadata": {},
   "source": [
    "F\n",
    "i\n",
    "b\n",
    "(\n",
    "2\n",
    ")\n",
    "=\n",
    "1\n",
    "Fib(2)=1\n",
    "\n",
    "F\n",
    "i\n",
    "b\n",
    "(\n",
    "3\n",
    ")\n",
    "=\n",
    "F\n",
    "i\n",
    "b\n",
    "(\n",
    "2\n",
    ")\n",
    "+\n",
    "F\n",
    "i\n",
    "b\n",
    "(\n",
    "1\n",
    ")\n",
    "=\n",
    "1\n",
    "+\n",
    "0\n",
    "=\n",
    "1\n",
    "Fib(3)=Fib(2)+Fib(1)=1+0=1\n",
    "\n",
    "F\n",
    "i\n",
    "b\n",
    "(\n",
    "4\n",
    ")\n",
    "=\n",
    "F\n",
    "i\n",
    "b\n",
    "(\n",
    "3\n",
    ")\n",
    "+\n",
    "F\n",
    "i\n",
    "b\n",
    "(\n",
    "2\n",
    ")\n",
    "=\n",
    "1\n",
    "+\n",
    "1\n",
    "=\n",
    "2\n",
    "Fib(4)=Fib(3)+Fib(2)=1+1=2\n",
    "\n",
    "F\n",
    "i\n",
    "b\n",
    "(\n",
    "5\n",
    ")\n",
    "=\n",
    "F\n",
    "i\n",
    "b\n",
    "(\n",
    "4\n",
    ")\n",
    "+\n",
    "F\n",
    "i\n",
    "b\n",
    "(\n",
    "3\n",
    ")\n",
    "=\n",
    "2\n",
    "+\n",
    "1\n",
    "=\n",
    "3\n",
    "Fib(5)=Fib(4)+Fib(3)=2+1=3\n",
    "\n",
    "F\n",
    "i\n",
    "b\n",
    "(\n",
    "6\n",
    ")\n",
    "=\n",
    "F\n",
    "i\n",
    "b\n",
    "(\n",
    "5\n",
    ")\n",
    "+\n",
    "F\n",
    "i\n",
    "b\n",
    "(\n",
    "4\n",
    ")\n",
    "=\n",
    "3\n",
    "+\n",
    "2\n",
    "=\n",
    "5\n",
    "Fib(6)=Fib(5)+Fib(4)=3+2=5\n",
    "\n",
    "F\n",
    "i\n",
    "b\n",
    "(\n",
    "7\n",
    ")\n",
    "=\n",
    "F\n",
    "i\n",
    "b\n",
    "(\n",
    "6\n",
    ")\n",
    "+\n",
    "F\n",
    "i\n",
    "b\n",
    "(\n",
    "5\n",
    ")\n",
    "=\n",
    "5\n",
    "+\n",
    "3\n",
    "=\n",
    "8\n",
    "Fib(7)=Fib(6)+Fib(5)=5+3=8"
   ]
  },
  {
   "cell_type": "code",
   "execution_count": 8,
   "metadata": {},
   "outputs": [
    {
     "name": "stdout",
     "output_type": "stream",
     "text": [
      "5\n"
     ]
    }
   ],
   "source": [
    "#fabronic series\n",
    "def fabronic(n):\n",
    "    if n<=0:\n",
    "        return 0\n",
    "    elif n==1:\n",
    "        return 0\n",
    "    elif n==2:\n",
    "        return 1\n",
    "    else:\n",
    "        return fabronic(n-1)+fabronic(n-2)\n",
    "        \n",
    "   \n",
    "c = int(input(\"enter a number\"))\n",
    "print(fabronic(c))"
   ]
  },
  {
   "cell_type": "code",
   "execution_count": null,
   "metadata": {},
   "outputs": [
    {
     "name": "stdout",
     "output_type": "stream",
     "text": [
      "0 1 1 2 3 "
     ]
    }
   ],
   "source": [
    "#fabrinic seriees using iterations\n",
    "a , b= 0,1\n",
    "n= int(input(\"enter a number\"))\n",
    "print(a, b, end=\" \")#in starting we give two numbers 0 and 1\n",
    "for c in range(n-1):\n",
    "    c = a + b\n",
    "    print(c, end=\" \")\n",
    "    a, b = b, c#it will give the value of b to a and c to b\n",
    "\n",
    "#dry run\"\"\n",
    "# \"in the first iteration\n",
    "# a=0 ,b=1\n",
    "# a=b   mean a=1\n",
    "# b=c mean b=a+b=1\n",
    "#  2nd iteration\n",
    "# c = 1+1=2\n",
    "\n",
    "# a=1\n",
    "# b=2\n",
    "#  c = 3\"\n",
    "\n",
    "\n"
   ]
  },
  {
   "cell_type": "code",
   "execution_count": 11,
   "metadata": {},
   "outputs": [
    {
     "name": "stdout",
     "output_type": "stream",
     "text": [
      "John : [8592970000, 'john@xyzmail.com']\n",
      "Bob : [456738302, 'bob@xyzmail.com']\n",
      "Tom : [974955264, 'tom@xyzmail.com']\n"
     ]
    }
   ],
   "source": [
    "phone_book = {\n",
    "    'John': [8592970000, 'john@xyzmail.com'],#it is a list with in adictionary\n",
    "    'Bob': [456738302, 'bob@xyzmail.com'],\n",
    "    'Tom': [974955264, 'tom@xyzmail.com']\n",
    "}\n",
    "for k, v in phone_book.items():#it will take the key value pairs\n",
    "    print(k, \":\", v)\n"
   ]
  },
  {
   "cell_type": "code",
   "execution_count": null,
   "metadata": {},
   "outputs": [
    {
     "name": "stdout",
     "output_type": "stream",
     "text": [
      "[10, 20, 30, 40, 50]\n"
     ]
    }
   ],
   "source": [
    "number_list = [10, 20, 30, 40, 50, 60, 70, 80, 90, 100]\n",
    "number_list = [x for x in number_list if x <= 50] # here we take x in the list \n",
    "print(number_list)  # Output: [10, 20, 30, 40, 50]\n"
   ]
  },
  {
   "cell_type": "code",
   "execution_count": 18,
   "metadata": {},
   "outputs": [
    {
     "name": "stdout",
     "output_type": "stream",
     "text": [
      "10\n",
      "20\n",
      "30\n",
      "40\n",
      "50\n"
     ]
    }
   ],
   "source": [
    "number_list = [10, 20, 30, 40, 50, 60, 70, 80, 90, 100]\n",
    "for i in number_list:\n",
    "    if i<=50:\n",
    "        print(i)"
   ]
  },
  {
   "cell_type": "code",
   "execution_count": null,
   "metadata": {},
   "outputs": [
    {
     "name": "stdout",
     "output_type": "stream",
     "text": [
      "{65: 'a', 68: 'b', 69: 'c', 34: 'd'}\n"
     ]
    }
   ],
   "source": [
    "#Reverse dictionary mapping\n",
    "ascci_dict = {\"a\": 65,\n",
    "              \"b\": 68,\n",
    "              \"c\":69,\n",
    "              \"d\":34}\n",
    "reversed_dic = {v:k for k,v in ascci_dict.items()}#this will place values first and keys onward\n",
    "print(reversed_dic)"
   ]
  },
  {
   "cell_type": "code",
   "execution_count": null,
   "metadata": {},
   "outputs": [
    {
     "name": "stdout",
     "output_type": "stream",
     "text": [
      "[20, 60, 30]\n"
     ]
    }
   ],
   "source": [
    "import collections#import collectionsWe import the collections module here to use its Counter class, which is a convenient way to count occurrences of elements in a list or any iterable.\n",
    "\n",
    "\n",
    "sample_list = [10, 20, 60, 30, 20, 40, 30, 60, 70, 80]\n",
    "duplicates = [item for item, count in collections.Counter(sample_list).items() if count > 1]#creates a dictionary-like object where keys are items from the list, and values are their counts.]#collections.Counter(sample_list) creates a dictionary-like object where keys are items from the list, and values are their counts.\n",
    "print(duplicates)  # Output: [20, 60, 30]\n"
   ]
  },
  {
   "cell_type": "code",
   "execution_count": 31,
   "metadata": {},
   "outputs": [
    {
     "name": "stdout",
     "output_type": "stream",
     "text": [
      "{'a': 3, 'b': 4, 'c': 5}\n"
     ]
    }
   ],
   "source": [
    "d = {'a':3,\n",
    "     'b':4,\n",
    "     'c':5,\n",
    "     'd':6}\n",
    "keys = {'a','b','c'}\n",
    "give_list = {k:d[k] for k in keys if k in d}\n",
    "print(give_list)"
   ]
  },
  {
   "cell_type": "code",
   "execution_count": null,
   "metadata": {},
   "outputs": [],
   "source": [
    "list = [1,2,3,4,55]"
   ]
  }
 ],
 "metadata": {
  "kernelspec": {
   "display_name": "first",
   "language": "python",
   "name": "python3"
  },
  "language_info": {
   "codemirror_mode": {
    "name": "ipython",
    "version": 3
   },
   "file_extension": ".py",
   "mimetype": "text/x-python",
   "name": "python",
   "nbconvert_exporter": "python",
   "pygments_lexer": "ipython3",
   "version": "3.10.16"
  }
 },
 "nbformat": 4,
 "nbformat_minor": 2
}
